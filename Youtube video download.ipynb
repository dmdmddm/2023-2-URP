{
 "cells": [
  {
   "cell_type": "code",
   "execution_count": 1,
   "id": "ed7324a7",
   "metadata": {},
   "outputs": [
    {
     "name": "stdout",
     "output_type": "stream",
     "text": [
      "Requirement already satisfied: pytube in c:\\users\\ehdal\\anaconda3\\lib\\site-packages (15.0.0)\n"
     ]
    }
   ],
   "source": [
    "# Youtube 영상 다운로드를 위한 pytube 설치\n",
    "!pip install pytube"
   ]
  },
  {
   "cell_type": "code",
   "execution_count": 6,
   "id": "38f31c8a",
   "metadata": {},
   "outputs": [
    {
     "name": "stdout",
     "output_type": "stream",
     "text": [
      "DIF_sober_23는 다음과 같은 이유로 다운로드가 불가능하다: 9XjS4I4oQDY is age restricted, and can't be accessed without logging in.\n"
     ]
    }
   ],
   "source": [
    "# youtube 영상을 다운받을 수 있는지를 먼저 알아보는 코드\n",
    "\n",
    "import pandas as pd\n",
    "from pytube import YouTube\n",
    "\n",
    "# Youtube 링크를 포함한 Excel 파일에서 YouTube 링크 읽기\n",
    "def read_youtube_links_from_excel(file_path):\n",
    "    try:\n",
    "        df = pd.read_excel(file_path)\n",
    "        return df.iloc[:, 1].dropna().tolist()  # 링크는 2번째 열에 위치\n",
    "    except Exception as e:\n",
    "        print(f\"Error reading Excel file: {e}\")\n",
    "        return []\n",
    "\n",
    "# YouTube 영상의 다운로드 가능 여부 확인 및 메시지 출력\n",
    "def check_youtube_video(url, index):\n",
    "    try:\n",
    "        yt = YouTube(url)\n",
    "        video = yt.streams.filter(progressive=True, file_extension='mp4').order_by('resolution').desc().first()\n",
    "        if not video:\n",
    "            print(f\"DIF_sober_{index}는 다운로드가 불가능합니다.\")\n",
    "            return False\n",
    "    except Exception as e:\n",
    "        print(f\"DIF_sober_{index}는 다음과 같은 이유로 다운로드가 불가능하다: {str(e)}\")\n",
    "        return False\n",
    "    return True\n",
    "\n",
    "# 파일 경로\n",
    "file_path = \"C:/Users/ehdal/Desktop/dataset/dataset_links_sober.xlsx\"\n",
    "\n",
    "# 링크 읽기 및 확인\n",
    "youtube_links = read_youtube_links_from_excel(file_path)\n",
    "for i, url in enumerate(youtube_links, start=1):\n",
    "    check_youtube_video(url, i)"
   ]
  },
  {
   "cell_type": "code",
   "execution_count": 9,
   "id": "7ec12d3a",
   "metadata": {},
   "outputs": [
    {
     "name": "stdout",
     "output_type": "stream",
     "text": [
      "Downloaded: https://www.youtube.com/watch?v=sHD0YxASbGQ as DIF_sober_2.mp4\n",
      "Downloaded: https://www.youtube.com/watch?v=xWCTb7KRhy8 as DIF_sober_3.mp4\n",
      "Downloaded: https://www.youtube.com/watch?v=Y2daBxWN0SE&t=10s as DIF_sober_4.mp4\n",
      "Downloaded: https://www.youtube.com/watch?v=IJBus-4J0io as DIF_sober_5.mp4\n",
      "Downloaded: https://www.youtube.com/watch?v=NzaXJF-LtbI&t=1s as DIF_sober_6.mp4\n",
      "Downloaded: https://www.youtube.com/watch?v=728Vsx_FZok&t=186s as DIF_sober_7.mp4\n",
      "Downloaded: https://www.youtube.com/watch?v=yH0-KA7Bf-A as DIF_sober_8.mp4\n",
      "Downloaded: https://www.youtube.com/watch?v=ad_higXixRA as DIF_sober_9.mp4\n",
      "Downloaded: https://www.youtube.com/watch?v=SK48AsRIMM8 as DIF_sober_10.mp4\n",
      "Downloaded: https://www.youtube.com/watch?v=8ire67sypTM as DIF_sober_11.mp4\n",
      "Downloaded: https://www.youtube.com/watch?v=Roy60SpvgEM as DIF_sober_12.mp4\n",
      "Downloaded: https://www.youtube.com/watch?v=MO3pOHxRnhY as DIF_sober_13.mp4\n",
      "Downloaded: https://www.youtube.com/watch?v=QygmvmQyy4A as DIF_sober_14.mp4\n",
      "Downloaded: https://www.youtube.com/watch?v=JrmxD9UxY0E as DIF_sober_15.mp4\n",
      "Downloaded: https://www.youtube.com/watch?v=H14bBuluwB8 as DIF_sober_16.mp4\n",
      "Downloaded: https://www.youtube.com/watch?v=eTFy8RnUkoU as DIF_sober_17.mp4\n",
      "Downloaded: https://www.youtube.com/watch?v=wX78iKhInsc as DIF_sober_18.mp4\n",
      "Downloaded: https://www.youtube.com/watch?v=1XKSo2mFC6c as DIF_sober_19.mp4\n",
      "Downloaded: https://www.youtube.com/watch?v=KLsiKbfnrx4 as DIF_sober_20.mp4\n",
      "Downloaded: https://www.youtube.com/watch?v=-MTRxRO5SRA as DIF_sober_21.mp4\n"
     ]
    }
   ],
   "source": [
    "import pandas as pd\n",
    "from pytube import YouTube\n",
    "import os\n",
    "\n",
    "# 유튜브 링크가 저장되어 있는 파일 경로 설정\n",
    "file_path = \"C:/Users/ehdal/Desktop/dataset/dataset_links_sober.xlsx\"  \n",
    "\n",
    "# 파일에서 YouTube 링크 읽기\n",
    "links_df = pd.read_excel(file_path)  \n",
    "\n",
    "# 파일의 첫번째 열은 영상 이름이므로, 2번째 열에서 링크 추출\n",
    "youtube_links = links_df.iloc[:, 1].dropna().tolist()  \n",
    "\n",
    "# 영상을 다운로드할 파일 경로 설정 \n",
    "download_path = \"C:/Users/ehdal/Desktop/dataset/DIF_sober_mp4\"  \n",
    "\n",
    "# 다운로드 함수 설정\n",
    "def download_youtube_videos(links, path, start_index=0):\n",
    "    for i, url in enumerate(links, start=start_index):\n",
    "        # 파일 이름을 저장할 때 사용할 실제 인덱스 설정\n",
    "        # ex. 파일 인덱스는 0이지만, 영상에 저장할때는 1번째 영상으로 이름 설정\n",
    "        actual_index = i + 1 \n",
    "        try:\n",
    "            yt = YouTube(url)\n",
    "            # 비디오의 조건 설정 : 해상도가 가장 높은 영상(mp4)\n",
    "            video = yt.streams.filter(progressive=True, file_extension='mp4').order_by('resolution').desc().first()\n",
    "            if video:\n",
    "                filename = f\"DIF_sober_{actual_index}.mp4\"  # 파일 이름 설정\n",
    "                video.download(output_path=path, filename=filename)\n",
    "                print(f\"Downloaded: {url} as {filename}\")\n",
    "            else:\n",
    "                print(f\"No suitable video found for {url}\")\n",
    "        except Exception as e:\n",
    "            print(f\"Error downloading {url}: {str(e)}\")\n",
    "\n",
    "# 선택 범위 및 시작 인덱스 지정\n",
    "start_index = 1  # 시작 인덱스 (예: 1번째 영상)\n",
    "end_index = 20    # 끝 인덱스 (예: 20번째 영상)\n",
    "\n",
    "# 범위에 해당하는 영상 다운로드\n",
    "download_youtube_videos(youtube_links[start_index-1:end_index], download_path, start_index)"
   ]
  },
  {
   "cell_type": "code",
   "execution_count": null,
   "id": "0bc20c6b",
   "metadata": {},
   "outputs": [],
   "source": []
  }
 ],
 "metadata": {
  "kernelspec": {
   "display_name": "Python 3 (ipykernel)",
   "language": "python",
   "name": "python3"
  },
  "language_info": {
   "codemirror_mode": {
    "name": "ipython",
    "version": 3
   },
   "file_extension": ".py",
   "mimetype": "text/x-python",
   "name": "python",
   "nbconvert_exporter": "python",
   "pygments_lexer": "ipython3",
   "version": "3.9.18"
  }
 },
 "nbformat": 4,
 "nbformat_minor": 5
}
